{
  "nbformat": 4,
  "nbformat_minor": 0,
  "metadata": {
    "colab": {
      "provenance": [],
      "toc_visible": true
    },
    "kernelspec": {
      "name": "python3",
      "display_name": "Python 3"
    },
    "language_info": {
      "name": "python"
    }
  },
  "cells": [
    {
      "cell_type": "code",
      "execution_count": 9,
      "metadata": {
        "id": "H4gAKhqz2q-q"
      },
      "outputs": [],
      "source": [
        "import numpy as np"
      ]
    },
    {
      "cell_type": "code",
      "source": [
        "arr1 = np.array([1,2,3,4])\n",
        "print(arr1)"
      ],
      "metadata": {
        "colab": {
          "base_uri": "https://localhost:8080/"
        },
        "id": "FYOfTRob3Luv",
        "outputId": "8d56fbaa-3f1b-4e00-a7ac-71de4ccb79c2"
      },
      "execution_count": 2,
      "outputs": [
        {
          "output_type": "stream",
          "name": "stdout",
          "text": [
            "[1 2 3 4]\n"
          ]
        }
      ]
    },
    {
      "cell_type": "code",
      "source": [
        "alpha_arr = [\"q\", \"y\"]\n",
        "np.array(alpha_arr)"
      ],
      "metadata": {
        "colab": {
          "base_uri": "https://localhost:8080/"
        },
        "id": "ErmNPkEc3c3O",
        "outputId": "55456cf2-763c-4d35-eabe-a23d3750a12d"
      },
      "execution_count": 4,
      "outputs": [
        {
          "output_type": "execute_result",
          "data": {
            "text/plain": [
              "array(['q', 'y'], dtype='<U1')"
            ]
          },
          "metadata": {},
          "execution_count": 4
        }
      ]
    },
    {
      "cell_type": "code",
      "source": [
        "for i in range(1,6):\n",
        "  print(i)"
      ],
      "metadata": {
        "colab": {
          "base_uri": "https://localhost:8080/"
        },
        "id": "DxbKpBp85mxe",
        "outputId": "d4a83aee-2abc-4e2e-e5db-99168dd10bdd"
      },
      "execution_count": 7,
      "outputs": [
        {
          "output_type": "stream",
          "name": "stdout",
          "text": [
            "1\n",
            "2\n",
            "3\n",
            "4\n",
            "5\n"
          ]
        }
      ]
    },
    {
      "cell_type": "code",
      "source": [
        "np.arange(1,6)"
      ],
      "metadata": {
        "colab": {
          "base_uri": "https://localhost:8080/"
        },
        "id": "tsNpNXDM5wwD",
        "outputId": "7cc15d53-b866-4d1b-a2c1-a0c25402d4a1"
      },
      "execution_count": 11,
      "outputs": [
        {
          "output_type": "execute_result",
          "data": {
            "text/plain": [
              "array([1, 2, 3, 4, 5])"
            ]
          },
          "metadata": {},
          "execution_count": 11
        }
      ]
    },
    {
      "cell_type": "code",
      "source": [
        "n = np.arange(0,100,2)\n",
        "print(n)"
      ],
      "metadata": {
        "colab": {
          "base_uri": "https://localhost:8080/"
        },
        "id": "wTMYPq505-Ci",
        "outputId": "c7bc1772-8df1-4e78-8fde-4eccd899b85b"
      },
      "execution_count": 12,
      "outputs": [
        {
          "output_type": "stream",
          "name": "stdout",
          "text": [
            "[ 0  2  4  6  8 10 12 14 16 18 20 22 24 26 28 30 32 34 36 38 40 42 44 46\n",
            " 48 50 52 54 56 58 60 62 64 66 68 70 72 74 76 78 80 82 84 86 88 90 92 94\n",
            " 96 98]\n"
          ]
        }
      ]
    },
    {
      "cell_type": "code",
      "source": [
        "n = np.arange(100,0,-2)\n",
        "print(n)"
      ],
      "metadata": {
        "colab": {
          "base_uri": "https://localhost:8080/"
        },
        "id": "h3HBLmHK8P41",
        "outputId": "c3ebd397-a692-4098-8e5e-adeaa1285720"
      },
      "execution_count": 14,
      "outputs": [
        {
          "output_type": "stream",
          "name": "stdout",
          "text": [
            "[100  98  96  94  92  90  88  86  84  82  80  78  76  74  72  70  68  66\n",
            "  64  62  60  58  56  54  52  50  48  46  44  42  40  38  36  34  32  30\n",
            "  28  26  24  22  20  18  16  14  12  10   8   6   4   2]\n"
          ]
        }
      ]
    },
    {
      "cell_type": "code",
      "source": [
        "x = np.linspace(1,5)\n",
        "x"
      ],
      "metadata": {
        "colab": {
          "base_uri": "https://localhost:8080/"
        },
        "id": "15D9T20i8ZKl",
        "outputId": "3ec7f8d5-300a-45f4-b41d-c756452458f1"
      },
      "execution_count": 15,
      "outputs": [
        {
          "output_type": "execute_result",
          "data": {
            "text/plain": [
              "array([1.        , 1.08163265, 1.16326531, 1.24489796, 1.32653061,\n",
              "       1.40816327, 1.48979592, 1.57142857, 1.65306122, 1.73469388,\n",
              "       1.81632653, 1.89795918, 1.97959184, 2.06122449, 2.14285714,\n",
              "       2.2244898 , 2.30612245, 2.3877551 , 2.46938776, 2.55102041,\n",
              "       2.63265306, 2.71428571, 2.79591837, 2.87755102, 2.95918367,\n",
              "       3.04081633, 3.12244898, 3.20408163, 3.28571429, 3.36734694,\n",
              "       3.44897959, 3.53061224, 3.6122449 , 3.69387755, 3.7755102 ,\n",
              "       3.85714286, 3.93877551, 4.02040816, 4.10204082, 4.18367347,\n",
              "       4.26530612, 4.34693878, 4.42857143, 4.51020408, 4.59183673,\n",
              "       4.67346939, 4.75510204, 4.83673469, 4.91836735, 5.        ])"
            ]
          },
          "metadata": {},
          "execution_count": 15
        }
      ]
    },
    {
      "cell_type": "code",
      "source": [
        "x = np.linspace(0,1,5)\n",
        "x"
      ],
      "metadata": {
        "colab": {
          "base_uri": "https://localhost:8080/"
        },
        "id": "9uPR4WJ39XXK",
        "outputId": "26ab72f9-f527-4f89-bf35-12971c64eb1d"
      },
      "execution_count": 16,
      "outputs": [
        {
          "output_type": "execute_result",
          "data": {
            "text/plain": [
              "array([0.  , 0.25, 0.5 , 0.75, 1.  ])"
            ]
          },
          "metadata": {},
          "execution_count": 16
        }
      ]
    },
    {
      "cell_type": "code",
      "source": [
        "n = np.random.randint(1,100,5)\n",
        "n"
      ],
      "metadata": {
        "colab": {
          "base_uri": "https://localhost:8080/"
        },
        "id": "VVFTiqVL-AUj",
        "outputId": "fb95101a-e7b1-4e2a-aeec-eaa2b4f0cbc3"
      },
      "execution_count": 22,
      "outputs": [
        {
          "output_type": "execute_result",
          "data": {
            "text/plain": [
              "array([33, 27, 10,  5,  4])"
            ]
          },
          "metadata": {},
          "execution_count": 22
        }
      ]
    },
    {
      "cell_type": "code",
      "source": [
        "k = np.random.rand(1,10,2)\n",
        "k"
      ],
      "metadata": {
        "colab": {
          "base_uri": "https://localhost:8080/"
        },
        "id": "HE1N5TVa-5E5",
        "outputId": "68939043-de70-4ac3-d946-b2b418fe4a87"
      },
      "execution_count": 24,
      "outputs": [
        {
          "output_type": "execute_result",
          "data": {
            "text/plain": [
              "array([[[0.31332668, 0.6062849 ],\n",
              "        [0.15619758, 0.96402791],\n",
              "        [0.16902156, 0.59927439],\n",
              "        [0.10218621, 0.71952198],\n",
              "        [0.68700104, 0.40838005],\n",
              "        [0.02759266, 0.385914  ],\n",
              "        [0.10498219, 0.45497431],\n",
              "        [0.47417201, 0.58785564],\n",
              "        [0.35149952, 0.01903413],\n",
              "        [0.00543789, 0.91772271]]])"
            ]
          },
          "metadata": {},
          "execution_count": 24
        }
      ]
    },
    {
      "cell_type": "code",
      "source": [],
      "metadata": {
        "id": "GGiDSEUyAXsf"
      },
      "execution_count": null,
      "outputs": []
    }
  ]
}