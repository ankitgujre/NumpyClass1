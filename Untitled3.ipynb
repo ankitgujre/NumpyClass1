{
  "nbformat": 4,
  "nbformat_minor": 0,
  "metadata": {
    "colab": {
      "provenance": []
    },
    "kernelspec": {
      "name": "python3",
      "display_name": "Python 3"
    },
    "language_info": {
      "name": "python"
    }
  },
  "cells": [
    {
      "cell_type": "code",
      "execution_count": 1,
      "metadata": {
        "id": "5-5j5sfBLoea"
      },
      "outputs": [],
      "source": [
        "import numpy as np\n"
      ]
    },
    {
      "cell_type": "code",
      "source": [
        "A = np.array([[1, 2, 3],[4, 5, 6],[7, 8, 9]])\n"
      ],
      "metadata": {
        "id": "mBCyWqtQLsGn"
      },
      "execution_count": 2,
      "outputs": []
    },
    {
      "cell_type": "code",
      "source": [
        "B = np.array([[9, 8, 7],\n",
        "              [6, 5, 4],\n",
        "              [3, 2, 1]])"
      ],
      "metadata": {
        "id": "szB1mZ2TMOrA"
      },
      "execution_count": 3,
      "outputs": []
    },
    {
      "cell_type": "code",
      "source": [
        "C = np.dot(A, B)"
      ],
      "metadata": {
        "id": "2VJDix-8MQHl"
      },
      "execution_count": 4,
      "outputs": []
    },
    {
      "cell_type": "code",
      "source": [
        "C"
      ],
      "metadata": {
        "colab": {
          "base_uri": "https://localhost:8080/"
        },
        "id": "rfQx7nSCMVYP",
        "outputId": "f1f123ab-4877-4eb1-c3d2-706d82392729"
      },
      "execution_count": 6,
      "outputs": [
        {
          "output_type": "execute_result",
          "data": {
            "text/plain": [
              "array([[ 30,  24,  18],\n",
              "       [ 84,  69,  54],\n",
              "       [138, 114,  90]])"
            ]
          },
          "metadata": {},
          "execution_count": 6
        }
      ]
    },
    {
      "cell_type": "code",
      "source": [
        "arr = A.flatten()  # ise dimention reduction method kehte hai\n",
        "arr"
      ],
      "metadata": {
        "colab": {
          "base_uri": "https://localhost:8080/"
        },
        "id": "hHlZ7lA3MWfL",
        "outputId": "011e45eb-c882-4305-e453-633ddc3ba700"
      },
      "execution_count": 9,
      "outputs": [
        {
          "output_type": "execute_result",
          "data": {
            "text/plain": [
              "array([1, 2, 3, 4, 5, 6, 7, 8, 9])"
            ]
          },
          "metadata": {},
          "execution_count": 9
        }
      ]
    },
    {
      "cell_type": "code",
      "source": [
        "arr = B.flatten()\n",
        "arr"
      ],
      "metadata": {
        "colab": {
          "base_uri": "https://localhost:8080/"
        },
        "id": "L27mIQKTNU8d",
        "outputId": "97364518-b478-4fae-a27b-e72fc733e1a3"
      },
      "execution_count": 10,
      "outputs": [
        {
          "output_type": "execute_result",
          "data": {
            "text/plain": [
              "array([9, 8, 7, 6, 5, 4, 3, 2, 1])"
            ]
          },
          "metadata": {},
          "execution_count": 10
        }
      ]
    },
    {
      "cell_type": "code",
      "source": [],
      "metadata": {
        "id": "gUbSoFeyNp1y"
      },
      "execution_count": null,
      "outputs": []
    }
  ]
}